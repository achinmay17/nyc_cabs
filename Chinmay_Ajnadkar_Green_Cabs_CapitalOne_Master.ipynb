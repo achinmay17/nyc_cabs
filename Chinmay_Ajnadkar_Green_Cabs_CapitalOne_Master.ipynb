{
 "cells": [
  {
   "cell_type": "code",
   "execution_count": 2,
   "metadata": {
    "collapsed": false
   },
   "outputs": [
    {
     "name": "stderr",
     "output_type": "stream",
     "text": [
      "C:\\Users\\Chinmay\\Anaconda3\\lib\\site-packages\\sklearn\\cross_validation.py:44: DeprecationWarning: This module was deprecated in version 0.18 in favor of the model_selection module into which all the refactored classes and functions are moved. Also note that the interface of the new CV iterators are different from that of this module. This module will be removed in 0.20.\n",
      "  \"This module will be removed in 0.20.\", DeprecationWarning)\n"
     ]
    }
   ],
   "source": [
    "import pandas as pd\n",
    "import matplotlib.pyplot as plt\n",
    "from datetime import datetime\n",
    "import numpy as np\n",
    "\n",
    "from sklearn.ensemble import RandomForestClassifier\n",
    "from sklearn.preprocessing import robust_scale\n",
    "from sklearn import preprocessing\n",
    "from sklearn.preprocessing import OneHotEncoder\n",
    "from sklearn import metrics\n",
    "from sklearn.cross_validation import train_test_split\n",
    "from sklearn import datasets, linear_model\n",
    "import scipy.stats as stats\n",
    "import statistics"
   ]
  },
  {
   "cell_type": "markdown",
   "metadata": {},
   "source": [
    ">Question 1\n",
    ">\n",
    "·         Programmatically download and load into your favorite analytical tool the trip data for September 2015.\n",
    ">\n",
    "·         Report how many rows and columns of data you have loaded."
   ]
  },
  {
   "cell_type": "code",
   "execution_count": 3,
   "metadata": {
    "collapsed": false,
    "scrolled": true
   },
   "outputs": [
    {
     "data": {
      "text/html": [
       "<div>\n",
       "<table border=\"1\" class=\"dataframe\">\n",
       "  <thead>\n",
       "    <tr style=\"text-align: right;\">\n",
       "      <th></th>\n",
       "      <th>VendorID</th>\n",
       "      <th>lpep_pickup_datetime</th>\n",
       "      <th>Lpep_dropoff_datetime</th>\n",
       "      <th>Store_and_fwd_flag</th>\n",
       "      <th>RateCodeID</th>\n",
       "      <th>Pickup_longitude</th>\n",
       "      <th>Pickup_latitude</th>\n",
       "      <th>Dropoff_longitude</th>\n",
       "      <th>Dropoff_latitude</th>\n",
       "      <th>Passenger_count</th>\n",
       "      <th>...</th>\n",
       "      <th>Fare_amount</th>\n",
       "      <th>Extra</th>\n",
       "      <th>MTA_tax</th>\n",
       "      <th>Tip_amount</th>\n",
       "      <th>Tolls_amount</th>\n",
       "      <th>Ehail_fee</th>\n",
       "      <th>improvement_surcharge</th>\n",
       "      <th>Total_amount</th>\n",
       "      <th>Payment_type</th>\n",
       "      <th>Trip_type</th>\n",
       "    </tr>\n",
       "  </thead>\n",
       "  <tbody>\n",
       "    <tr>\n",
       "      <th>0</th>\n",
       "      <td>2</td>\n",
       "      <td>2015-09-01 00:02:34</td>\n",
       "      <td>2015-09-01 00:02:38</td>\n",
       "      <td>N</td>\n",
       "      <td>5</td>\n",
       "      <td>-73.979485</td>\n",
       "      <td>40.684956</td>\n",
       "      <td>-73.979431</td>\n",
       "      <td>40.685020</td>\n",
       "      <td>1</td>\n",
       "      <td>...</td>\n",
       "      <td>7.8</td>\n",
       "      <td>0.0</td>\n",
       "      <td>0.0</td>\n",
       "      <td>1.95</td>\n",
       "      <td>0.0</td>\n",
       "      <td>NaN</td>\n",
       "      <td>0.0</td>\n",
       "      <td>9.75</td>\n",
       "      <td>1</td>\n",
       "      <td>2.0</td>\n",
       "    </tr>\n",
       "    <tr>\n",
       "      <th>1</th>\n",
       "      <td>2</td>\n",
       "      <td>2015-09-01 00:04:20</td>\n",
       "      <td>2015-09-01 00:04:24</td>\n",
       "      <td>N</td>\n",
       "      <td>5</td>\n",
       "      <td>-74.010796</td>\n",
       "      <td>40.912216</td>\n",
       "      <td>-74.010780</td>\n",
       "      <td>40.912212</td>\n",
       "      <td>1</td>\n",
       "      <td>...</td>\n",
       "      <td>45.0</td>\n",
       "      <td>0.0</td>\n",
       "      <td>0.0</td>\n",
       "      <td>0.00</td>\n",
       "      <td>0.0</td>\n",
       "      <td>NaN</td>\n",
       "      <td>0.0</td>\n",
       "      <td>45.00</td>\n",
       "      <td>1</td>\n",
       "      <td>2.0</td>\n",
       "    </tr>\n",
       "    <tr>\n",
       "      <th>2</th>\n",
       "      <td>2</td>\n",
       "      <td>2015-09-01 00:01:50</td>\n",
       "      <td>2015-09-01 00:04:24</td>\n",
       "      <td>N</td>\n",
       "      <td>1</td>\n",
       "      <td>-73.921410</td>\n",
       "      <td>40.766708</td>\n",
       "      <td>-73.914413</td>\n",
       "      <td>40.764687</td>\n",
       "      <td>1</td>\n",
       "      <td>...</td>\n",
       "      <td>4.0</td>\n",
       "      <td>0.5</td>\n",
       "      <td>0.5</td>\n",
       "      <td>0.50</td>\n",
       "      <td>0.0</td>\n",
       "      <td>NaN</td>\n",
       "      <td>0.3</td>\n",
       "      <td>5.80</td>\n",
       "      <td>1</td>\n",
       "      <td>1.0</td>\n",
       "    </tr>\n",
       "    <tr>\n",
       "      <th>3</th>\n",
       "      <td>2</td>\n",
       "      <td>2015-09-01 00:02:36</td>\n",
       "      <td>2015-09-01 00:06:42</td>\n",
       "      <td>N</td>\n",
       "      <td>1</td>\n",
       "      <td>-73.921387</td>\n",
       "      <td>40.766678</td>\n",
       "      <td>-73.931427</td>\n",
       "      <td>40.771584</td>\n",
       "      <td>1</td>\n",
       "      <td>...</td>\n",
       "      <td>5.0</td>\n",
       "      <td>0.5</td>\n",
       "      <td>0.5</td>\n",
       "      <td>0.00</td>\n",
       "      <td>0.0</td>\n",
       "      <td>NaN</td>\n",
       "      <td>0.3</td>\n",
       "      <td>6.30</td>\n",
       "      <td>2</td>\n",
       "      <td>1.0</td>\n",
       "    </tr>\n",
       "    <tr>\n",
       "      <th>4</th>\n",
       "      <td>2</td>\n",
       "      <td>2015-09-01 00:00:14</td>\n",
       "      <td>2015-09-01 00:04:20</td>\n",
       "      <td>N</td>\n",
       "      <td>1</td>\n",
       "      <td>-73.955482</td>\n",
       "      <td>40.714046</td>\n",
       "      <td>-73.944412</td>\n",
       "      <td>40.714729</td>\n",
       "      <td>1</td>\n",
       "      <td>...</td>\n",
       "      <td>5.0</td>\n",
       "      <td>0.5</td>\n",
       "      <td>0.5</td>\n",
       "      <td>0.00</td>\n",
       "      <td>0.0</td>\n",
       "      <td>NaN</td>\n",
       "      <td>0.3</td>\n",
       "      <td>6.30</td>\n",
       "      <td>2</td>\n",
       "      <td>1.0</td>\n",
       "    </tr>\n",
       "  </tbody>\n",
       "</table>\n",
       "<p>5 rows × 21 columns</p>\n",
       "</div>"
      ],
      "text/plain": [
       "   VendorID lpep_pickup_datetime Lpep_dropoff_datetime Store_and_fwd_flag  \\\n",
       "0         2  2015-09-01 00:02:34   2015-09-01 00:02:38                  N   \n",
       "1         2  2015-09-01 00:04:20   2015-09-01 00:04:24                  N   \n",
       "2         2  2015-09-01 00:01:50   2015-09-01 00:04:24                  N   \n",
       "3         2  2015-09-01 00:02:36   2015-09-01 00:06:42                  N   \n",
       "4         2  2015-09-01 00:00:14   2015-09-01 00:04:20                  N   \n",
       "\n",
       "   RateCodeID  Pickup_longitude  Pickup_latitude  Dropoff_longitude  \\\n",
       "0           5        -73.979485        40.684956         -73.979431   \n",
       "1           5        -74.010796        40.912216         -74.010780   \n",
       "2           1        -73.921410        40.766708         -73.914413   \n",
       "3           1        -73.921387        40.766678         -73.931427   \n",
       "4           1        -73.955482        40.714046         -73.944412   \n",
       "\n",
       "   Dropoff_latitude  Passenger_count     ...      Fare_amount  Extra  MTA_tax  \\\n",
       "0         40.685020                1     ...              7.8    0.0      0.0   \n",
       "1         40.912212                1     ...             45.0    0.0      0.0   \n",
       "2         40.764687                1     ...              4.0    0.5      0.5   \n",
       "3         40.771584                1     ...              5.0    0.5      0.5   \n",
       "4         40.714729                1     ...              5.0    0.5      0.5   \n",
       "\n",
       "   Tip_amount  Tolls_amount  Ehail_fee  improvement_surcharge  Total_amount  \\\n",
       "0        1.95           0.0        NaN                    0.0          9.75   \n",
       "1        0.00           0.0        NaN                    0.0         45.00   \n",
       "2        0.50           0.0        NaN                    0.3          5.80   \n",
       "3        0.00           0.0        NaN                    0.3          6.30   \n",
       "4        0.00           0.0        NaN                    0.3          6.30   \n",
       "\n",
       "   Payment_type  Trip_type   \n",
       "0             1         2.0  \n",
       "1             1         2.0  \n",
       "2             1         1.0  \n",
       "3             2         1.0  \n",
       "4             2         1.0  \n",
       "\n",
       "[5 rows x 21 columns]"
      ]
     },
     "execution_count": 3,
     "metadata": {},
     "output_type": "execute_result"
    }
   ],
   "source": [
    "df = pd.read_csv('green_tripdata_2015-09.csv')\n",
    "df.head()"
   ]
  },
  {
   "cell_type": "code",
   "execution_count": 4,
   "metadata": {
    "collapsed": false
   },
   "outputs": [
    {
     "data": {
      "text/plain": [
       "Index(['VendorID', 'lpep_pickup_datetime', 'Lpep_dropoff_datetime',\n",
       "       'Store_and_fwd_flag', 'RateCodeID', 'Pickup_longitude',\n",
       "       'Pickup_latitude', 'Dropoff_longitude', 'Dropoff_latitude',\n",
       "       'Passenger_count', 'Trip_distance', 'Fare_amount', 'Extra', 'MTA_tax',\n",
       "       'Tip_amount', 'Tolls_amount', 'Ehail_fee', 'improvement_surcharge',\n",
       "       'Total_amount', 'Payment_type', 'Trip_type '],\n",
       "      dtype='object')"
      ]
     },
     "execution_count": 4,
     "metadata": {},
     "output_type": "execute_result"
    }
   ],
   "source": [
    "df.columns"
   ]
  },
  {
   "cell_type": "code",
   "execution_count": 5,
   "metadata": {
    "collapsed": false,
    "scrolled": true
   },
   "outputs": [
    {
     "name": "stdout",
     "output_type": "stream",
     "text": [
      "<class 'pandas.core.frame.DataFrame'>\n",
      "RangeIndex: 1494926 entries, 0 to 1494925\n",
      "Data columns (total 21 columns):\n",
      "VendorID                 1494926 non-null int64\n",
      "lpep_pickup_datetime     1494926 non-null object\n",
      "Lpep_dropoff_datetime    1494926 non-null object\n",
      "Store_and_fwd_flag       1494926 non-null object\n",
      "RateCodeID               1494926 non-null int64\n",
      "Pickup_longitude         1494926 non-null float64\n",
      "Pickup_latitude          1494926 non-null float64\n",
      "Dropoff_longitude        1494926 non-null float64\n",
      "Dropoff_latitude         1494926 non-null float64\n",
      "Passenger_count          1494926 non-null int64\n",
      "Trip_distance            1494926 non-null float64\n",
      "Fare_amount              1494926 non-null float64\n",
      "Extra                    1494926 non-null float64\n",
      "MTA_tax                  1494926 non-null float64\n",
      "Tip_amount               1494926 non-null float64\n",
      "Tolls_amount             1494926 non-null float64\n",
      "Ehail_fee                0 non-null float64\n",
      "improvement_surcharge    1494926 non-null float64\n",
      "Total_amount             1494926 non-null float64\n",
      "Payment_type             1494926 non-null int64\n",
      "Trip_type                1494922 non-null float64\n",
      "dtypes: float64(14), int64(4), object(3)\n",
      "memory usage: 239.5+ MB\n"
     ]
    }
   ],
   "source": [
    "df.info()"
   ]
  },
  {
   "cell_type": "code",
   "execution_count": 6,
   "metadata": {
    "collapsed": false
   },
   "outputs": [
    {
     "name": "stderr",
     "output_type": "stream",
     "text": [
      "C:\\Users\\Chinmay\\Anaconda3\\lib\\site-packages\\numpy\\lib\\function_base.py:3834: RuntimeWarning: Invalid value encountered in percentile\n",
      "  RuntimeWarning)\n"
     ]
    },
    {
     "data": {
      "text/html": [
       "<div>\n",
       "<table border=\"1\" class=\"dataframe\">\n",
       "  <thead>\n",
       "    <tr style=\"text-align: right;\">\n",
       "      <th></th>\n",
       "      <th>VendorID</th>\n",
       "      <th>RateCodeID</th>\n",
       "      <th>Pickup_longitude</th>\n",
       "      <th>Pickup_latitude</th>\n",
       "      <th>Dropoff_longitude</th>\n",
       "      <th>Dropoff_latitude</th>\n",
       "      <th>Passenger_count</th>\n",
       "      <th>Trip_distance</th>\n",
       "      <th>Fare_amount</th>\n",
       "      <th>Extra</th>\n",
       "      <th>MTA_tax</th>\n",
       "      <th>Tip_amount</th>\n",
       "      <th>Tolls_amount</th>\n",
       "      <th>Ehail_fee</th>\n",
       "      <th>improvement_surcharge</th>\n",
       "      <th>Total_amount</th>\n",
       "      <th>Payment_type</th>\n",
       "      <th>Trip_type</th>\n",
       "    </tr>\n",
       "  </thead>\n",
       "  <tbody>\n",
       "    <tr>\n",
       "      <th>count</th>\n",
       "      <td>1.494926e+06</td>\n",
       "      <td>1.494926e+06</td>\n",
       "      <td>1.494926e+06</td>\n",
       "      <td>1.494926e+06</td>\n",
       "      <td>1.494926e+06</td>\n",
       "      <td>1.494926e+06</td>\n",
       "      <td>1.494926e+06</td>\n",
       "      <td>1.494926e+06</td>\n",
       "      <td>1.494926e+06</td>\n",
       "      <td>1.494926e+06</td>\n",
       "      <td>1.494926e+06</td>\n",
       "      <td>1.494926e+06</td>\n",
       "      <td>1.494926e+06</td>\n",
       "      <td>0.0</td>\n",
       "      <td>1.494926e+06</td>\n",
       "      <td>1.494926e+06</td>\n",
       "      <td>1.494926e+06</td>\n",
       "      <td>1.494922e+06</td>\n",
       "    </tr>\n",
       "    <tr>\n",
       "      <th>mean</th>\n",
       "      <td>1.782045e+00</td>\n",
       "      <td>1.097653e+00</td>\n",
       "      <td>-7.383084e+01</td>\n",
       "      <td>4.069114e+01</td>\n",
       "      <td>-7.383728e+01</td>\n",
       "      <td>4.069291e+01</td>\n",
       "      <td>1.370598e+00</td>\n",
       "      <td>2.968141e+00</td>\n",
       "      <td>1.254320e+01</td>\n",
       "      <td>3.512800e-01</td>\n",
       "      <td>4.866408e-01</td>\n",
       "      <td>1.235727e+00</td>\n",
       "      <td>1.231047e-01</td>\n",
       "      <td>NaN</td>\n",
       "      <td>2.920991e-01</td>\n",
       "      <td>1.503215e+01</td>\n",
       "      <td>1.540559e+00</td>\n",
       "      <td>1.022353e+00</td>\n",
       "    </tr>\n",
       "    <tr>\n",
       "      <th>std</th>\n",
       "      <td>4.128570e-01</td>\n",
       "      <td>6.359437e-01</td>\n",
       "      <td>2.776082e+00</td>\n",
       "      <td>1.530882e+00</td>\n",
       "      <td>2.677911e+00</td>\n",
       "      <td>1.476698e+00</td>\n",
       "      <td>1.039426e+00</td>\n",
       "      <td>3.076621e+00</td>\n",
       "      <td>1.008278e+01</td>\n",
       "      <td>3.663096e-01</td>\n",
       "      <td>8.504473e-02</td>\n",
       "      <td>2.431476e+00</td>\n",
       "      <td>8.910137e-01</td>\n",
       "      <td>NaN</td>\n",
       "      <td>5.074009e-02</td>\n",
       "      <td>1.155316e+01</td>\n",
       "      <td>5.232935e-01</td>\n",
       "      <td>1.478288e-01</td>\n",
       "    </tr>\n",
       "    <tr>\n",
       "      <th>min</th>\n",
       "      <td>1.000000e+00</td>\n",
       "      <td>1.000000e+00</td>\n",
       "      <td>-8.331908e+01</td>\n",
       "      <td>0.000000e+00</td>\n",
       "      <td>-8.342784e+01</td>\n",
       "      <td>0.000000e+00</td>\n",
       "      <td>0.000000e+00</td>\n",
       "      <td>0.000000e+00</td>\n",
       "      <td>-4.750000e+02</td>\n",
       "      <td>-1.000000e+00</td>\n",
       "      <td>-5.000000e-01</td>\n",
       "      <td>-5.000000e+01</td>\n",
       "      <td>-1.529000e+01</td>\n",
       "      <td>NaN</td>\n",
       "      <td>-3.000000e-01</td>\n",
       "      <td>-4.750000e+02</td>\n",
       "      <td>1.000000e+00</td>\n",
       "      <td>1.000000e+00</td>\n",
       "    </tr>\n",
       "    <tr>\n",
       "      <th>25%</th>\n",
       "      <td>2.000000e+00</td>\n",
       "      <td>1.000000e+00</td>\n",
       "      <td>-7.395961e+01</td>\n",
       "      <td>4.069895e+01</td>\n",
       "      <td>-7.396782e+01</td>\n",
       "      <td>4.069878e+01</td>\n",
       "      <td>1.000000e+00</td>\n",
       "      <td>1.100000e+00</td>\n",
       "      <td>6.500000e+00</td>\n",
       "      <td>0.000000e+00</td>\n",
       "      <td>5.000000e-01</td>\n",
       "      <td>0.000000e+00</td>\n",
       "      <td>0.000000e+00</td>\n",
       "      <td>NaN</td>\n",
       "      <td>3.000000e-01</td>\n",
       "      <td>8.160000e+00</td>\n",
       "      <td>1.000000e+00</td>\n",
       "      <td>NaN</td>\n",
       "    </tr>\n",
       "    <tr>\n",
       "      <th>50%</th>\n",
       "      <td>2.000000e+00</td>\n",
       "      <td>1.000000e+00</td>\n",
       "      <td>-7.394536e+01</td>\n",
       "      <td>4.074674e+01</td>\n",
       "      <td>-7.394504e+01</td>\n",
       "      <td>4.074728e+01</td>\n",
       "      <td>1.000000e+00</td>\n",
       "      <td>1.980000e+00</td>\n",
       "      <td>9.500000e+00</td>\n",
       "      <td>5.000000e-01</td>\n",
       "      <td>5.000000e-01</td>\n",
       "      <td>0.000000e+00</td>\n",
       "      <td>0.000000e+00</td>\n",
       "      <td>NaN</td>\n",
       "      <td>3.000000e-01</td>\n",
       "      <td>1.176000e+01</td>\n",
       "      <td>2.000000e+00</td>\n",
       "      <td>NaN</td>\n",
       "    </tr>\n",
       "    <tr>\n",
       "      <th>75%</th>\n",
       "      <td>2.000000e+00</td>\n",
       "      <td>1.000000e+00</td>\n",
       "      <td>-7.391748e+01</td>\n",
       "      <td>4.080255e+01</td>\n",
       "      <td>-7.391013e+01</td>\n",
       "      <td>4.079015e+01</td>\n",
       "      <td>1.000000e+00</td>\n",
       "      <td>3.740000e+00</td>\n",
       "      <td>1.550000e+01</td>\n",
       "      <td>5.000000e-01</td>\n",
       "      <td>5.000000e-01</td>\n",
       "      <td>2.000000e+00</td>\n",
       "      <td>0.000000e+00</td>\n",
       "      <td>NaN</td>\n",
       "      <td>3.000000e-01</td>\n",
       "      <td>1.830000e+01</td>\n",
       "      <td>2.000000e+00</td>\n",
       "      <td>NaN</td>\n",
       "    </tr>\n",
       "    <tr>\n",
       "      <th>max</th>\n",
       "      <td>2.000000e+00</td>\n",
       "      <td>9.900000e+01</td>\n",
       "      <td>0.000000e+00</td>\n",
       "      <td>4.317726e+01</td>\n",
       "      <td>0.000000e+00</td>\n",
       "      <td>4.279934e+01</td>\n",
       "      <td>9.000000e+00</td>\n",
       "      <td>6.031000e+02</td>\n",
       "      <td>5.805000e+02</td>\n",
       "      <td>1.200000e+01</td>\n",
       "      <td>5.000000e-01</td>\n",
       "      <td>3.000000e+02</td>\n",
       "      <td>9.575000e+01</td>\n",
       "      <td>NaN</td>\n",
       "      <td>3.000000e-01</td>\n",
       "      <td>5.813000e+02</td>\n",
       "      <td>5.000000e+00</td>\n",
       "      <td>2.000000e+00</td>\n",
       "    </tr>\n",
       "  </tbody>\n",
       "</table>\n",
       "</div>"
      ],
      "text/plain": [
       "           VendorID    RateCodeID  Pickup_longitude  Pickup_latitude  \\\n",
       "count  1.494926e+06  1.494926e+06      1.494926e+06     1.494926e+06   \n",
       "mean   1.782045e+00  1.097653e+00     -7.383084e+01     4.069114e+01   \n",
       "std    4.128570e-01  6.359437e-01      2.776082e+00     1.530882e+00   \n",
       "min    1.000000e+00  1.000000e+00     -8.331908e+01     0.000000e+00   \n",
       "25%    2.000000e+00  1.000000e+00     -7.395961e+01     4.069895e+01   \n",
       "50%    2.000000e+00  1.000000e+00     -7.394536e+01     4.074674e+01   \n",
       "75%    2.000000e+00  1.000000e+00     -7.391748e+01     4.080255e+01   \n",
       "max    2.000000e+00  9.900000e+01      0.000000e+00     4.317726e+01   \n",
       "\n",
       "       Dropoff_longitude  Dropoff_latitude  Passenger_count  Trip_distance  \\\n",
       "count       1.494926e+06      1.494926e+06     1.494926e+06   1.494926e+06   \n",
       "mean       -7.383728e+01      4.069291e+01     1.370598e+00   2.968141e+00   \n",
       "std         2.677911e+00      1.476698e+00     1.039426e+00   3.076621e+00   \n",
       "min        -8.342784e+01      0.000000e+00     0.000000e+00   0.000000e+00   \n",
       "25%        -7.396782e+01      4.069878e+01     1.000000e+00   1.100000e+00   \n",
       "50%        -7.394504e+01      4.074728e+01     1.000000e+00   1.980000e+00   \n",
       "75%        -7.391013e+01      4.079015e+01     1.000000e+00   3.740000e+00   \n",
       "max         0.000000e+00      4.279934e+01     9.000000e+00   6.031000e+02   \n",
       "\n",
       "        Fare_amount         Extra       MTA_tax    Tip_amount  Tolls_amount  \\\n",
       "count  1.494926e+06  1.494926e+06  1.494926e+06  1.494926e+06  1.494926e+06   \n",
       "mean   1.254320e+01  3.512800e-01  4.866408e-01  1.235727e+00  1.231047e-01   \n",
       "std    1.008278e+01  3.663096e-01  8.504473e-02  2.431476e+00  8.910137e-01   \n",
       "min   -4.750000e+02 -1.000000e+00 -5.000000e-01 -5.000000e+01 -1.529000e+01   \n",
       "25%    6.500000e+00  0.000000e+00  5.000000e-01  0.000000e+00  0.000000e+00   \n",
       "50%    9.500000e+00  5.000000e-01  5.000000e-01  0.000000e+00  0.000000e+00   \n",
       "75%    1.550000e+01  5.000000e-01  5.000000e-01  2.000000e+00  0.000000e+00   \n",
       "max    5.805000e+02  1.200000e+01  5.000000e-01  3.000000e+02  9.575000e+01   \n",
       "\n",
       "       Ehail_fee  improvement_surcharge  Total_amount  Payment_type  \\\n",
       "count        0.0           1.494926e+06  1.494926e+06  1.494926e+06   \n",
       "mean         NaN           2.920991e-01  1.503215e+01  1.540559e+00   \n",
       "std          NaN           5.074009e-02  1.155316e+01  5.232935e-01   \n",
       "min          NaN          -3.000000e-01 -4.750000e+02  1.000000e+00   \n",
       "25%          NaN           3.000000e-01  8.160000e+00  1.000000e+00   \n",
       "50%          NaN           3.000000e-01  1.176000e+01  2.000000e+00   \n",
       "75%          NaN           3.000000e-01  1.830000e+01  2.000000e+00   \n",
       "max          NaN           3.000000e-01  5.813000e+02  5.000000e+00   \n",
       "\n",
       "         Trip_type   \n",
       "count  1.494922e+06  \n",
       "mean   1.022353e+00  \n",
       "std    1.478288e-01  \n",
       "min    1.000000e+00  \n",
       "25%             NaN  \n",
       "50%             NaN  \n",
       "75%             NaN  \n",
       "max    2.000000e+00  "
      ]
     },
     "execution_count": 6,
     "metadata": {},
     "output_type": "execute_result"
    }
   ],
   "source": [
    "df.describe()"
   ]
  },
  {
   "cell_type": "code",
   "execution_count": 7,
   "metadata": {
    "collapsed": false,
    "scrolled": false
   },
   "outputs": [
    {
     "data": {
      "text/plain": [
       "(1494926, 21)"
      ]
     },
     "execution_count": 7,
     "metadata": {},
     "output_type": "execute_result"
    }
   ],
   "source": [
    "df.shape"
   ]
  },
  {
   "cell_type": "markdown",
   "metadata": {},
   "source": [
    ">Question 2\n",
    ">\n",
    "·         Plot a histogram of the number of the trip distance (\"Trip Distance\").\n",
    ">\n",
    "·         Report any structure you find and any hypotheses you have about that structure."
   ]
  },
  {
   "cell_type": "code",
   "execution_count": 8,
   "metadata": {
    "collapsed": false
   },
   "outputs": [
    {
     "name": "stdout",
     "output_type": "stream",
     "text": [
      "0.0 603.1\n"
     ]
    }
   ],
   "source": [
    "print(df['Trip_distance'].min(),df['Trip_distance'].max())\n"
   ]
  },
  {
   "cell_type": "code",
   "execution_count": 9,
   "metadata": {
    "collapsed": false
   },
   "outputs": [
    {
     "data": {
      "image/png": "[encoded data removed]",
      "text/plain": [
       "<matplotlib.figure.Figure at 0x20899f4dba8>"
      ]
     },
     "metadata": {},
     "output_type": "display_data"
    }
   ],
   "source": [
    "plt.hist(df['Trip_distance'])#,bins = 100)\n",
    "plt.title('Histogram of trip distances')\n",
    "plt.show()"
   ]
  },
  {
   "cell_type": "code",
   "execution_count": 10,
   "metadata": {
    "collapsed": false
   },
   "outputs": [
    {
     "data": {
      "text/plain": [
       "3210"
      ]
     },
     "execution_count": 10,
     "metadata": {},
     "output_type": "execute_result"
    }
   ],
   "source": [
    "df['Trip_distance'].nunique()"
   ]
  },
  {
   "cell_type": "code",
   "execution_count": 11,
   "metadata": {
    "collapsed": false
   },
   "outputs": [
    {
     "data": {
      "text/plain": [
       "0.0    20592\n",
       "1.0    16735\n",
       "0.9    16699\n",
       "0.8    16152\n",
       "1.1    16070\n",
       "Name: Trip_distance, dtype: int64"
      ]
     },
     "execution_count": 11,
     "metadata": {},
     "output_type": "execute_result"
    }
   ],
   "source": [
    "df['Trip_distance'].value_counts().head()"
   ]
  },
  {
   "cell_type": "code",
   "execution_count": 12,
   "metadata": {
    "collapsed": false
   },
   "outputs": [
    {
     "data": {
      "image/png": "[encoded data removed]",
      "text/plain": [
       "<matplotlib.figure.Figure at 0x20894f485c0>"
      ]
     },
     "metadata": {},
     "output_type": "display_data"
    }
   ],
   "source": [
    "plt.hist(df['Trip_distance'][df['Trip_distance']<20],bins = 100)\n",
    "plt.title('Histogram of trip distances')\n",
    "plt.xlabel('Trip Distance')\n",
    "plt.ylabel('No of occurences')\n",
    "plt.show()"
   ]
  },
  {
   "cell_type": "markdown",
   "metadata": {},
   "source": [
    ">Question 3\n",
    ">\n",
    "·         Report mean and median trip distance grouped by hour of day.\n",
    ">\n",
    "·         We'd like to get a rough sense of identifying trips that originate or terminate at one of the NYC area airports. Can you provide a count of how many transactions fit this criteria, the average fair, and any other interesting characteristics of these trips."
   ]
  },
  {
   "cell_type": "code",
   "execution_count": 13,
   "metadata": {
    "collapsed": false
   },
   "outputs": [],
   "source": [
    "df['pickup'] = df['lpep_pickup_datetime'].apply(lambda x: \n",
    "                                                       datetime.strptime(x, '%Y-%m-%d %H:%M:%S'))"
   ]
  },
  {
   "cell_type": "code",
   "execution_count": 14,
   "metadata": {
    "collapsed": true
   },
   "outputs": [],
   "source": [
    "df['pickup_hour'] = df['pickup'].apply(lambda x: x.hour)"
   ]
  },
  {
   "cell_type": "code",
   "execution_count": 15,
   "metadata": {
    "collapsed": true
   },
   "outputs": [],
   "source": [
    "df['dropoff'] = df['Lpep_dropoff_datetime'].apply(lambda x: \n",
    "                                                       datetime.strptime(x, '%Y-%m-%d %H:%M:%S'))\n",
    "df['dropoff_hour'] = df['dropoff'].apply(lambda x: x.hour)"
   ]
  },
  {
   "cell_type": "code",
   "execution_count": 16,
   "metadata": {
    "collapsed": false
   },
   "outputs": [
    {
     "data": {
      "image/png": "[encoded data removed]",
      "text/plain": [
       "<matplotlib.figure.Figure at 0x2089a222320>"
      ]
     },
     "metadata": {},
     "output_type": "display_data"
    },
    {
     "data": {
      "image/png": "[encoded data removed]",
      "text/plain": [
       "<matplotlib.figure.Figure at 0x2089a3c08d0>"
      ]
     },
     "metadata": {},
     "output_type": "display_data"
    }
   ],
   "source": [
    "df[['Trip_distance','pickup_hour']].groupby('pickup_hour').mean().plot.bar()\n",
    "plt.title('Mean trip distance across day')\n",
    "plt.show()\n",
    "df[['Trip_distance','pickup_hour']].groupby('pickup_hour').median().plot.bar()\n",
    "plt.title('Median trip distance across day')\n",
    "plt.show()"
   ]
  },
  {
   "cell_type": "code",
   "execution_count": 17,
   "metadata": {
    "collapsed": true
   },
   "outputs": [],
   "source": [
    "def which_nyairport(row):\n",
    "    if (\n",
    "        ((row['Pickup_longitude'] < -73.750296) & (row['Pickup_longitude'] > -73.821884) &\n",
    "       (row['Pickup_latitude'] < 40.666467) & (row['Pickup_latitude']>40.646677)) | \n",
    "        (\n",
    "       (row['Dropoff_longitude'] < -73.750296) & (row['Dropoff_longitude'] > -73.821884) &\n",
    "       (row['Dropoff_latitude'] < 40.666467) & (row['Dropoff_latitude']>40.646677)) ):\n",
    "        \n",
    "        return 'JFK'\n",
    "    if (\n",
    "        ((row['Pickup_longitude'] < -73.865387) & (row['Pickup_longitude'] > -73.884547) &\n",
    "       (row['Pickup_latitude'] < 40.773098) & (row['Pickup_latitude']>40.767550)) | \n",
    "        (\n",
    "       (row['Dropoff_longitude'] < -73.865387) & (row['Dropoff_longitude'] > -73.884547) &\n",
    "       (row['Dropoff_latitude'] < 40.773098) & (row['Dropoff_latitude']>40.767550)) ):\n",
    "        \n",
    "        return 'LAG'\n",
    "    else:\n",
    "        return 'NOT'\n",
    "    "
   ]
  },
  {
   "cell_type": "code",
   "execution_count": 18,
   "metadata": {
    "collapsed": false
   },
   "outputs": [
    {
     "name": "stdout",
     "output_type": "stream",
     "text": [
      " Volume in drive C has no label.\n",
      " Volume Serial Number is 267D-1C3C\n",
      "\n",
      " Directory of C:\\Users\\Chinmay\\Desktop\\2nd sem\\capital one\n",
      "\n",
      "05/02/2017  07:04 PM    <DIR>          .\n",
      "05/02/2017  07:04 PM    <DIR>          ..\n",
      "05/02/2017  07:02 PM    <DIR>          .ipynb_checkpoints\n",
      "03/02/2017  01:45 PM        17,939,192 aiport_array.npy\n",
      "28/01/2017  12:38 AM            43,971 Capital one .ipynb\n",
      "03/02/2017  05:44 PM           959,659 Chinmay_Ajnadkar_capital one.zip\n",
      "05/02/2017  07:04 PM           216,539 Chinmay_Ajnadkar_Green_Cabs_CapitalOne_Master.ipynb\n",
      "03/02/2017  05:59 PM           836,784 Chinmay_Ajnadkar_report.docx\n",
      "03/02/2017  05:42 PM           896,907 Chinmay_Ajnadkar_report.pdf\n",
      "28/01/2017  12:09 AM            75,537 data_dictionary_trip_records_green.pdf\n",
      "03/02/2017  05:10 PM           143,621 Green_Cabs (1).ipynb\n",
      "03/02/2017  05:05 PM           231,098 Green_Cabs (2).ipynb\n",
      "03/02/2017  03:04 PM           124,701 Green_Cabs.ipynb\n",
      "25/01/2017  09:04 PM       239,035,648 green_tripdata_2015-09.csv\n",
      "03/02/2017  05:29 PM    <DIR>          snapshots\n",
      "03/02/2017  05:38 PM            10,817 task_5_b_1.png\n",
      "03/02/2017  05:38 PM            12,181 task_5_b_2.png\n",
      "03/02/2017  05:38 PM            60,458 task5.png\n",
      "              14 File(s)    260,587,113 bytes\n",
      "               4 Dir(s)  44,814,258,176 bytes free\n"
     ]
    }
   ],
   "source": [
    "ls"
   ]
  },
  {
   "cell_type": "code",
   "execution_count": 19,
   "metadata": {
    "collapsed": false
   },
   "outputs": [],
   "source": [
    "airport = np.load('aiport_array.npy')"
   ]
  },
  {
   "cell_type": "markdown",
   "metadata": {},
   "source": [
    "Cell below is commented since it takes too long to compute the airport array, which therefore is saved as a .npy file and loaded in the above cell."
   ]
  },
  {
   "cell_type": "code",
   "execution_count": 20,
   "metadata": {
    "collapsed": false
   },
   "outputs": [],
   "source": [
    "# airport = [None]*df.shape[0]\n",
    "# for index, row in df.iterrows():\n",
    "#     if index%1000 == 0:\n",
    "#         print(index)\n",
    "#     airport[index] = which_nyairport(row)\n",
    "# np.save('aiport_array.npy', airport)"
   ]
  },
  {
   "cell_type": "code",
   "execution_count": 21,
   "metadata": {
    "collapsed": false
   },
   "outputs": [],
   "source": [
    "df['airport'] = airport "
   ]
  },
  {
   "cell_type": "code",
   "execution_count": 22,
   "metadata": {
    "collapsed": false,
    "scrolled": false
   },
   "outputs": [
    {
     "data": {
      "text/plain": [
       "NOT    1485010\n",
       "LAG       5216\n",
       "JFK       4700\n",
       "Name: airport, dtype: int64"
      ]
     },
     "execution_count": 22,
     "metadata": {},
     "output_type": "execute_result"
    }
   ],
   "source": [
    "df['airport'].value_counts()"
   ]
  },
  {
   "cell_type": "markdown",
   "metadata": {},
   "source": [
    "average fair, no of trips satisying criteria, other interesting things"
   ]
  },
  {
   "cell_type": "code",
   "execution_count": 23,
   "metadata": {
    "collapsed": false,
    "scrolled": true
   },
   "outputs": [
    {
     "name": "stdout",
     "output_type": "stream",
     "text": [
      "average fair for airport trips 26.628824122630096\n",
      "number of trips satisfying the criteria: 9916\n"
     ]
    }
   ],
   "source": [
    "print('average fair for airport trips',df[df['airport']!= 'NOT']['Fare_amount'].mean())\n",
    "print('number of trips satisfying the criteria:',df[df['airport']!='NOT']['Fare_amount'].shape[0])"
   ]
  },
  {
   "cell_type": "code",
   "execution_count": 24,
   "metadata": {
    "collapsed": false
   },
   "outputs": [
    {
     "name": "stdout",
     "output_type": "stream",
     "text": [
      "average fair for non-airport trips 12.449142207796637\n"
     ]
    }
   ],
   "source": [
    "print('average fair for non-airport trips',df[df['airport']=='NOT']['Fare_amount'].mean())"
   ]
  },
  {
   "cell_type": "markdown",
   "metadata": {},
   "source": [
    ">Question 4\n",
    "\n",
    ">·         Build a derived variable for tip as a percentage of the total fare.\n",
    "\n",
    ">·         Build a predictive model for tip as a percentage of the total fare. Use as much of the data as you like (or all of it). We will validate a sample."
   ]
  },
  {
   "cell_type": "code",
   "execution_count": 25,
   "metadata": {
    "collapsed": false,
    "scrolled": true
   },
   "outputs": [
    {
     "data": {
      "text/plain": [
       "Index(['VendorID', 'lpep_pickup_datetime', 'Lpep_dropoff_datetime',\n",
       "       'Store_and_fwd_flag', 'RateCodeID', 'Pickup_longitude',\n",
       "       'Pickup_latitude', 'Dropoff_longitude', 'Dropoff_latitude',\n",
       "       'Passenger_count', 'Trip_distance', 'Fare_amount', 'Extra', 'MTA_tax',\n",
       "       'Tip_amount', 'Tolls_amount', 'Ehail_fee', 'improvement_surcharge',\n",
       "       'Total_amount', 'Payment_type', 'Trip_type ', 'pickup', 'pickup_hour',\n",
       "       'dropoff', 'dropoff_hour', 'airport'],\n",
       "      dtype='object')"
      ]
     },
     "execution_count": 25,
     "metadata": {},
     "output_type": "execute_result"
    }
   ],
   "source": [
    "df.columns"
   ]
  },
  {
   "cell_type": "code",
   "execution_count": 26,
   "metadata": {
    "collapsed": false
   },
   "outputs": [
    {
     "name": "stdout",
     "output_type": "stream",
     "text": [
      "False    1492331\n",
      "True        2595\n",
      "Name: tip_percent, dtype: int64\n"
     ]
    }
   ],
   "source": [
    "df['tip_percent'] = df['Tip_amount']/df['Fare_amount']\n",
    "print((df['tip_percent']>1).value_counts())\n",
    "df = df[df['tip_percent']<1]"
   ]
  },
  {
   "cell_type": "code",
   "execution_count": 27,
   "metadata": {
    "collapsed": false,
    "scrolled": false
   },
   "outputs": [
    {
     "name": "stdout",
     "output_type": "stream",
     "text": [
      "--------------------- \n",
      " VendorID\n",
      "2    1166745\n",
      "1     321110\n",
      "Name: VendorID, dtype: int64\n",
      "False    1487855\n",
      "Name: VendorID, dtype: int64\n",
      "--------------------- \n",
      " Store_and_fwd_flag\n",
      "N    1479307\n",
      "Y       8548\n",
      "Name: Store_and_fwd_flag, dtype: int64\n",
      "False    1487855\n",
      "Name: Store_and_fwd_flag, dtype: int64\n",
      "--------------------- \n",
      " RateCodeID\n",
      "1     1451328\n",
      "5       30054\n",
      "2        4411\n",
      "3        1113\n",
      "4         909\n",
      "6          36\n",
      "99          4\n",
      "Name: RateCodeID, dtype: int64\n",
      "False    1487855\n",
      "Name: RateCodeID, dtype: int64\n",
      "--------------------- \n",
      " Passenger_count\n",
      "1    1250095\n",
      "2     114316\n",
      "5      57789\n",
      "3      33592\n",
      "6      22051\n",
      "4       9687\n",
      "0        268\n",
      "8         30\n",
      "7         15\n",
      "9         12\n",
      "Name: Passenger_count, dtype: int64\n",
      "False    1487855\n",
      "Name: Passenger_count, dtype: int64\n",
      "--------------------- \n",
      " Payment_type\n",
      "2    779997\n",
      "1    698209\n",
      "3      5260\n",
      "4      4317\n",
      "5        72\n",
      "Name: Payment_type, dtype: int64\n",
      "False    1487855\n",
      "Name: Payment_type, dtype: int64\n",
      "--------------------- \n",
      " Trip_type \n",
      "1.0    1458264\n",
      "2.0      29587\n",
      "Name: Trip_type , dtype: int64\n",
      "False    1487851\n",
      "True           4\n",
      "Name: Trip_type , dtype: int64\n",
      "--------------------- \n",
      " pickup_hour\n",
      "18    96923\n",
      "19    95815\n",
      "20    90456\n",
      "17    87702\n",
      "21    86196\n",
      "22    84335\n",
      "23    79501\n",
      "16    78823\n",
      "15    73466\n",
      "0     66905\n",
      "14    66326\n",
      "9     61726\n",
      "8     58618\n",
      "12    57508\n",
      "13    57172\n",
      "10    57096\n",
      "11    56448\n",
      "1     53519\n",
      "7     41662\n",
      "2     41000\n",
      "3     31459\n",
      "4     26232\n",
      "6     22426\n",
      "5     16541\n",
      "Name: pickup_hour, dtype: int64\n",
      "False    1487855\n",
      "Name: pickup_hour, dtype: int64\n",
      "--------------------- \n",
      " airport\n",
      "NOT    1477996\n",
      "LAG       5189\n",
      "JFK       4670\n",
      "Name: airport, dtype: int64\n",
      "False    1487855\n",
      "Name: airport, dtype: int64\n"
     ]
    }
   ],
   "source": [
    "col_list = ['VendorID','Store_and_fwd_flag','RateCodeID','Passenger_count','Payment_type', \n",
    "            'Trip_type ', 'pickup_hour','airport',]\n",
    "for col in col_list:\n",
    "    print('---------------------','\\n',col)\n",
    "    print(df[col].value_counts())\n",
    "    print(df[col].isnull().value_counts())"
   ]
  },
  {
   "cell_type": "markdown",
   "metadata": {},
   "source": [
    "From the results of the above cell we try to answer the question - \n",
    "\n",
    ">What features should be considered in the regression?\n",
    "\n",
    "We decide to include the following - \n",
    "1. 'VendorID' (categorical)\n",
    "2. 'Store_and_fwd_flag' (categorical)\n",
    "3. 'Passenger_count' (numeric)\n",
    "4. 'Trip_distance' (numeric)\n",
    "5. 'Fare_amount' (numeric)\n",
    "6. 'Extra' (numeric)\n",
    "7. 'MTA_tax' (numeric)\n",
    "8. 'Tolls_amount' (numeric)\n",
    "9. 'improvement_surcharge'(numeric)\n",
    "10. 'Payment_type' (categorical)\n",
    "11. 'Trip_type ' (categorical)\n",
    "12. 'pickup_hour' (categorical)\n",
    "13. 'dropoff_hour' (categorical)\n",
    "14. 'airport' (categorical)\n",
    "\n",
    "And drop all other columns."
   ]
  },
  {
   "cell_type": "markdown",
   "metadata": {},
   "source": [
    "Currently our data resides in a DataFrame. But to deal with categorical values we would need to use the one-hot encoding process from the sklearn library which works only on numpy arrays, hence we convert the relevant columns to numpy arrays in further analysis and encode them to one-hot vectors.\n"
   ]
  },
  {
   "cell_type": "code",
   "execution_count": 28,
   "metadata": {
    "collapsed": false,
    "scrolled": true
   },
   "outputs": [],
   "source": [
    "df.dropna(subset = ['Trip_type '],inplace = True)"
   ]
  },
  {
   "cell_type": "code",
   "execution_count": 34,
   "metadata": {
    "collapsed": false
   },
   "outputs": [
    {
     "data": {
      "text/plain": [
       "(1487851, 1)"
      ]
     },
     "execution_count": 34,
     "metadata": {},
     "output_type": "execute_result"
    }
   ],
   "source": [
    "df['VendorID'].as_matrix().reshape(1487851,1).shape"
   ]
  },
  {
   "cell_type": "code",
   "execution_count": 35,
   "metadata": {
    "collapsed": false
   },
   "outputs": [
    {
     "name": "stderr",
     "output_type": "stream",
     "text": [
      "C:\\Users\\Chinmay\\Anaconda3\\lib\\site-packages\\sklearn\\preprocessing\\label.py:112: DataConversionWarning: A column-vector y was passed when a 1d array was expected. Please change the shape of y to (n_samples, ), for example using ravel().\n",
      "  y = column_or_1d(y, warn=True)\n"
     ]
    },
    {
     "name": "stdout",
     "output_type": "stream",
     "text": [
      "(1487851, 4)\n"
     ]
    }
   ],
   "source": [
    "X_pre_encode = df['VendorID'].as_matrix()\n",
    "#Pre_encode is a matrix converted Venddor ID series into array\n",
    "\n",
    "le = preprocessing.LabelEncoder()\n",
    "le.fit(X_pre_encode.reshape(X_pre_encode.shape[0],1))\n",
    "ans = le.transform(X_pre_encode)\n",
    "\n",
    "enc = OneHotEncoder()\n",
    "enc.fit(ans.reshape(X_pre_encode.shape[0],1))\n",
    "ans1 = enc.transform(ans.reshape(X_pre_encode.shape[0],1)).toarray()\n",
    "\n",
    "X_pre_encode = df['Store_and_fwd_flag'].as_matrix()\n",
    "le = preprocessing.LabelEncoder()\n",
    "le.fit(X_pre_encode.reshape(X_pre_encode.shape[0],1))\n",
    "ans = le.transform(X_pre_encode)\n",
    "\n",
    "enc = OneHotEncoder()\n",
    "enc.fit(ans.reshape(X_pre_encode.shape[0],1))\n",
    "ans2 = enc.transform(ans.reshape(X_pre_encode.shape[0],1)).toarray()\n",
    "\n",
    "X = np.c_[ans1,ans2]\n",
    "print(X.shape)\n",
    "#Concatenated ans1 and ans2"
   ]
  },
  {
   "cell_type": "code",
   "execution_count": 36,
   "metadata": {
    "collapsed": false
   },
   "outputs": [],
   "source": [
    "X = np.c_[X , df['Passenger_count'].as_matrix(),df['Trip_distance'].as_matrix(),df['Fare_amount'].as_matrix(),\n",
    "         df['Extra'].as_matrix(),df['MTA_tax'].as_matrix(),df['Tolls_amount'].as_matrix(),\n",
    "         df['improvement_surcharge'].as_matrix()]\n",
    "# Added other features which were already in numeric "
   ]
  },
  {
   "cell_type": "code",
   "execution_count": 30,
   "metadata": {
    "collapsed": false
   },
   "outputs": [
    {
     "name": "stdout",
     "output_type": "stream",
     "text": [
      "(1487851, 11)\n"
     ]
    }
   ],
   "source": [
    "print(X.shape)"
   ]
  },
  {
   "cell_type": "code",
   "execution_count": 31,
   "metadata": {
    "collapsed": false
   },
   "outputs": [
    {
     "name": "stderr",
     "output_type": "stream",
     "text": [
      "C:\\Users\\Chinmay\\Anaconda3\\lib\\site-packages\\sklearn\\preprocessing\\label.py:112: DataConversionWarning: A column-vector y was passed when a 1d array was expected. Please change the shape of y to (n_samples, ), for example using ravel().\n",
      "  y = column_or_1d(y, warn=True)\n"
     ]
    }
   ],
   "source": [
    "for col in ['Payment_type','Trip_type ','pickup_hour','dropoff_hour','airport']:\n",
    "\n",
    "    X_pre_encode = df[col].as_matrix()\n",
    "    le = preprocessing.LabelEncoder()\n",
    "    le.fit(X_pre_encode.reshape(X_pre_encode.shape[0],1))\n",
    "    ans = le.transform(X_pre_encode)\n",
    "\n",
    "    enc = OneHotEncoder()\n",
    "    enc.fit(ans.reshape(X_pre_encode.shape[0],1))\n",
    "    ans2 = enc.transform(ans.reshape(X_pre_encode.shape[0],1)).toarray()\n",
    "    X = np.c_[X,ans2]"
   ]
  },
  {
   "cell_type": "code",
   "execution_count": 32,
   "metadata": {
    "collapsed": false
   },
   "outputs": [
    {
     "data": {
      "text/plain": [
       "(1487851, 69)"
      ]
     },
     "execution_count": 32,
     "metadata": {},
     "output_type": "execute_result"
    }
   ],
   "source": [
    "X.shape"
   ]
  },
  {
   "cell_type": "code",
   "execution_count": 33,
   "metadata": {
    "collapsed": true
   },
   "outputs": [],
   "source": [
    "y = df['tip_percent'].as_matrix()"
   ]
  },
  {
   "cell_type": "code",
   "execution_count": 34,
   "metadata": {
    "collapsed": false
   },
   "outputs": [
    {
     "name": "stdout",
     "output_type": "stream",
     "text": [
      "Coefficients: \n",
      " [  3.23224575e+06   3.23224575e+06   3.15168929e+09   3.15168929e+09\n",
      "   5.83052843e-04  -4.37568036e-04  -6.30100330e-04   4.90054557e-03\n",
      "   1.50352101e-02   4.91046906e-03  -1.99712627e-02   5.49260959e+09\n",
      "   5.49260959e+09   5.49260959e+09   5.49260959e+09   5.49260959e+09\n",
      "   2.72292424e+07   2.72292424e+07  -8.00659875e+08  -8.00659875e+08\n",
      "  -8.00659875e+08  -8.00659875e+08  -8.00659875e+08  -8.00659875e+08\n",
      "  -8.00659875e+08  -8.00659875e+08  -8.00659875e+08  -8.00659875e+08\n",
      "  -8.00659875e+08  -8.00659875e+08  -8.00659875e+08  -8.00659875e+08\n",
      "  -8.00659875e+08  -8.00659875e+08  -8.00659875e+08  -8.00659875e+08\n",
      "  -8.00659875e+08  -8.00659875e+08  -8.00659875e+08  -8.00659875e+08\n",
      "  -8.00659875e+08  -8.00659875e+08   1.48491763e+09   1.48491763e+09\n",
      "   1.48491763e+09   1.48491763e+09   1.48491763e+09   1.48491763e+09\n",
      "   1.48491763e+09   1.48491763e+09   1.48491763e+09   1.48491763e+09\n",
      "   1.48491763e+09   1.48491763e+09   1.48491763e+09   1.48491763e+09\n",
      "   1.48491763e+09   1.48491763e+09   1.48491763e+09   1.48491763e+09\n",
      "   1.48491763e+09   1.48491763e+09   1.48491763e+09   1.48491763e+09\n",
      "   1.48491763e+09   1.48491763e+09   4.56884556e+08   4.56884556e+08\n",
      "   4.56884556e+08]\n",
      "Mean squared error: 0.01\n",
      "Variance score: 0.64\n"
     ]
    }
   ],
   "source": [
    "# Create linear regression object\n",
    "regr = linear_model.LinearRegression()\n",
    "\n",
    "# Train the model using the training sets\n",
    "regr.fit(X, y)\n",
    "# The coefficients\n",
    "print('Coefficients: \\n', regr.coef_)\n",
    "# The mean squared error\n",
    "print(\"Mean squared error: %.2f\"\n",
    "      % np.mean((regr.predict(X) - y) ** 2))\n",
    "# Explained variance score: 1 is perfect prediction\n",
    "print('Variance score: %.2f' % regr.score(X, y))\n"
   ]
  },
  {
   "cell_type": "code",
   "execution_count": 35,
   "metadata": {
    "collapsed": false
   },
   "outputs": [
    {
     "data": {
      "text/plain": [
       "array([  3.23224575e+06,   3.23224575e+06,   3.15168929e+09,\n",
       "         3.15168929e+09,   5.83052843e-04,   4.37568036e-04,\n",
       "         6.30100330e-04,   4.90054557e-03,   1.50352101e-02,\n",
       "         4.91046906e-03,   1.99712627e-02,   5.49260959e+09,\n",
       "         5.49260959e+09,   5.49260959e+09,   5.49260959e+09,\n",
       "         5.49260959e+09,   2.72292424e+07,   2.72292424e+07,\n",
       "         8.00659875e+08,   8.00659875e+08,   8.00659875e+08,\n",
       "         8.00659875e+08,   8.00659875e+08,   8.00659875e+08,\n",
       "         8.00659875e+08,   8.00659875e+08,   8.00659875e+08,\n",
       "         8.00659875e+08,   8.00659875e+08,   8.00659875e+08,\n",
       "         8.00659875e+08,   8.00659875e+08,   8.00659875e+08,\n",
       "         8.00659875e+08,   8.00659875e+08,   8.00659875e+08,\n",
       "         8.00659875e+08,   8.00659875e+08,   8.00659875e+08,\n",
       "         8.00659875e+08,   8.00659875e+08,   8.00659875e+08,\n",
       "         1.48491763e+09,   1.48491763e+09,   1.48491763e+09,\n",
       "         1.48491763e+09,   1.48491763e+09,   1.48491763e+09,\n",
       "         1.48491763e+09,   1.48491763e+09,   1.48491763e+09,\n",
       "         1.48491763e+09,   1.48491763e+09,   1.48491763e+09,\n",
       "         1.48491763e+09,   1.48491763e+09,   1.48491763e+09,\n",
       "         1.48491763e+09,   1.48491763e+09,   1.48491763e+09,\n",
       "         1.48491763e+09,   1.48491763e+09,   1.48491763e+09,\n",
       "         1.48491763e+09,   1.48491763e+09,   1.48491763e+09,\n",
       "         4.56884556e+08,   4.56884556e+08,   4.56884556e+08])"
      ]
     },
     "execution_count": 35,
     "metadata": {},
     "output_type": "execute_result"
    }
   ],
   "source": [
    "np.abs(regr.coef_)"
   ]
  },
  {
   "cell_type": "code",
   "execution_count": 36,
   "metadata": {
    "collapsed": false
   },
   "outputs": [
    {
     "data": {
      "image/png": "[encoded data removed]",
      "text/plain": [
       "<matplotlib.figure.Figure at 0x22d3d9639e8>"
      ]
     },
     "metadata": {},
     "output_type": "display_data"
    }
   ],
   "source": [
    "index = np.arange(len(regr.coef_))\n",
    "bar_width = 0.35\n",
    "opacity = 0.4\n",
    "error_config = {'ecolor': '0.3'}\n",
    "\n",
    "rects1 = plt.bar(index, np.log(np.abs(regr.coef_)), bar_width,\n",
    "                 alpha=opacity,\n",
    "                 color='b',\n",
    "                 error_kw=error_config,\n",
    "                 label='Men')\n",
    "\n",
    "# plt.bar(regr.coef_)\n",
    "plt.show()"
   ]
  },
  {
   "cell_type": "code",
   "execution_count": 37,
   "metadata": {
    "collapsed": false
   },
   "outputs": [],
   "source": [
    "# DOUBT TO RESOLVE about PANDAS APPLY METHOD!\n",
    "# df[['Tip_amount','Fare_amount']].apply(lambda x: ((x['Tip_amount']/x['Fare_amount'])*100) if (x['Fare_amount'] > 0) else np.nan )"
   ]
  },
  {
   "cell_type": "markdown",
   "metadata": {},
   "source": [
    ">Question 5\n",
    "\n",
    ">Choose only one of these options to answer for Question 5. There is no preference as to which one you choose. Please select the question that you feel your particular skills and/or expertise are best suited to. If you answer more than one, only the first will be scored.\n",
    "\n",
    ">·         Option A: Distributions\n",
    "\n",
    ">    Build a derived variable representing the average speed over the course of a trip.\n",
    "\n",
    ">    Can you perform a test to determine if the average trip speeds are materially the same in all weeks of September? If you decide they are not the same, can you form a hypothesis regarding why they differ?\n",
    "\n",
    ">    Can you build up a hypothesis of average trip speed as a function of time of day?"
   ]
  },
  {
   "cell_type": "code",
   "execution_count": 38,
   "metadata": {
    "collapsed": true
   },
   "outputs": [],
   "source": [
    "ans_t = (df['dropoff'] - df['pickup']).apply(lambda x: x.total_seconds())"
   ]
  },
  {
   "cell_type": "markdown",
   "metadata": {},
   "source": [
    "Trips taking less than 60 seconds are slightly hard to be true, hence we omit these entries as they could harm our analysis. There are 23630 such entries i.e. 1.5% of the entire data, hence we can proceed after dropping this part."
   ]
  },
  {
   "cell_type": "code",
   "execution_count": 39,
   "metadata": {
    "collapsed": false,
    "scrolled": true
   },
   "outputs": [
    {
     "name": "stdout",
     "output_type": "stream",
     "text": [
      "Percentage of entries with travel time less than a minute:  1.5888015668235596 %\n"
     ]
    }
   ],
   "source": [
    "print('Percentage of entries with travel time less than a minute: ',100 * df[ans_t < 60].shape[0]/df.shape[0],'%')"
   ]
  },
  {
   "cell_type": "code",
   "execution_count": 40,
   "metadata": {
    "collapsed": false
   },
   "outputs": [
    {
     "data": {
      "text/plain": [
       "Index(['VendorID', 'lpep_pickup_datetime', 'Lpep_dropoff_datetime',\n",
       "       'Store_and_fwd_flag', 'RateCodeID', 'Pickup_longitude',\n",
       "       'Pickup_latitude', 'Dropoff_longitude', 'Dropoff_latitude',\n",
       "       'Passenger_count', 'Trip_distance', 'Fare_amount', 'Extra', 'MTA_tax',\n",
       "       'Tip_amount', 'Tolls_amount', 'Ehail_fee', 'improvement_surcharge',\n",
       "       'Total_amount', 'Payment_type', 'Trip_type ', 'pickup', 'pickup_hour',\n",
       "       'dropoff', 'dropoff_hour', 'airport', 'tip_percent'],\n",
       "      dtype='object')"
      ]
     },
     "execution_count": 40,
     "metadata": {},
     "output_type": "execute_result"
    }
   ],
   "source": [
    "df.columns"
   ]
  },
  {
   "cell_type": "code",
   "execution_count": 41,
   "metadata": {
    "collapsed": false
   },
   "outputs": [],
   "source": [
    "df['travel_time'] = (df['dropoff'] - df['pickup']).apply(lambda x: x.total_seconds()) \n",
    "df = df[df['travel_time'] > 60]\n",
    "df['average_speed'] = 3600*(df['Trip_distance']/df['travel_time'])"
   ]
  },
  {
   "cell_type": "code",
   "execution_count": 42,
   "metadata": {
    "collapsed": false
   },
   "outputs": [
    {
     "data": {
      "text/plain": [
       "<matplotlib.axes._subplots.AxesSubplot at 0x22d3d9bfb38>"
      ]
     },
     "execution_count": 42,
     "metadata": {},
     "output_type": "execute_result"
    }
   ],
   "source": [
    "df['average_speed'].plot.hist(bins=300)"
   ]
  },
  {
   "cell_type": "code",
   "execution_count": 43,
   "metadata": {
    "collapsed": false,
    "scrolled": true
   },
   "outputs": [
    {
     "data": {
      "image/png": "[encoded data removed]",
      "text/plain": [
       "<matplotlib.figure.Figure at 0x22d3d9e9518>"
      ]
     },
     "metadata": {},
     "output_type": "display_data"
    }
   ],
   "source": [
    "plt.show()"
   ]
  },
  {
   "cell_type": "markdown",
   "metadata": {},
   "source": [
    "We filter away the 93 entries with over 100 miles per hour of average speed as it is unreasonable and must have been a result of some erroneous data collection process or later in the pipeline."
   ]
  },
  {
   "cell_type": "code",
   "execution_count": 44,
   "metadata": {
    "collapsed": false,
    "scrolled": true
   },
   "outputs": [
    {
     "name": "stdout",
     "output_type": "stream",
     "text": [
      "No of entries with average speed over 100 miles per hour:  93\n"
     ]
    }
   ],
   "source": [
    "print('No of entries with average speed over 100 miles per hour: ',(df['average_speed']>200).value_counts()[1])\n",
    "df = df[df['average_speed']<200]"
   ]
  },
  {
   "cell_type": "code",
   "execution_count": 45,
   "metadata": {
    "collapsed": false
   },
   "outputs": [],
   "source": [
    "df['week'] = df['dropoff'].apply(lambda x: x.week)"
   ]
  },
  {
   "cell_type": "code",
   "execution_count": 46,
   "metadata": {
    "collapsed": false,
    "scrolled": true
   },
   "outputs": [
    {
     "data": {
      "text/plain": [
       "37    356715\n",
       "38    352786\n",
       "39    332219\n",
       "36    292139\n",
       "40    130259\n",
       "Name: week, dtype: int64"
      ]
     },
     "execution_count": 46,
     "metadata": {},
     "output_type": "execute_result"
    }
   ],
   "source": [
    "df['week'].value_counts()"
   ]
  },
  {
   "cell_type": "code",
   "execution_count": 47,
   "metadata": {
    "collapsed": false
   },
   "outputs": [],
   "source": [
    "week_1 = df['average_speed'][df['week']==36].as_matrix()\n",
    "week_2 = df['average_speed'][df['week']==37].as_matrix()\n",
    "week_3 = df['average_speed'][df['week']==38].as_matrix()\n",
    "week_4 = df['average_speed'][df['week']==39].as_matrix()\n",
    "week_5 = df['average_speed'][df['week']==40].as_matrix()"
   ]
  },
  {
   "cell_type": "code",
   "execution_count": 48,
   "metadata": {
    "collapsed": false,
    "scrolled": true
   },
   "outputs": [
    {
     "data": {
      "text/plain": [
       "F_onewayResult(statistic=1025.1988959282685, pvalue=0.0)"
      ]
     },
     "execution_count": 48,
     "metadata": {},
     "output_type": "execute_result"
    }
   ],
   "source": [
    "stats.f_oneway(week_1,week_2, week_3,week_4, week_5)"
   ]
  },
  {
   "cell_type": "markdown",
   "metadata": {},
   "source": [
    "The ANOVA test indicates a large f-value and a small p-value, therefore we reject the null hypothesis and we conclude that the differences between the groups are statistically significant which implies that the week of the month does seem to be related to the average speed. We further compute the mean, median and histogram for these groups to support our claims"
   ]
  },
  {
   "cell_type": "code",
   "execution_count": 49,
   "metadata": {
    "collapsed": false,
    "scrolled": true
   },
   "outputs": [
    {
     "name": "stdout",
     "output_type": "stream",
     "text": [
      "13.3832726166 12.7247318871 12.7121244122 13.1901576133 12.4727838752\n"
     ]
    }
   ],
   "source": [
    "print(week_1.mean(),week_2.mean(),week_3.mean(),week_4.mean(),week_5.mean())"
   ]
  },
  {
   "cell_type": "code",
   "execution_count": 50,
   "metadata": {
    "collapsed": false
   },
   "outputs": [
    {
     "name": "stdout",
     "output_type": "stream",
     "text": [
      "12.1321585903 11.6205016358 11.6406235986 12.0313315927 11.4256259205\n"
     ]
    }
   ],
   "source": [
    "print(statistics.median(week_1),statistics.median(week_2),statistics.median(week_3),statistics.median(week_4),\n",
    "      statistics.median(week_5))"
   ]
  },
  {
   "cell_type": "code",
   "execution_count": 51,
   "metadata": {
    "collapsed": false
   },
   "outputs": [
    {
     "data": {
      "image/png": "[encoded data removed]",
      "text/plain": [
       "<matplotlib.figure.Figure at 0x22d60761e10>"
      ]
     },
     "metadata": {},
     "output_type": "display_data"
    }
   ],
   "source": [
    "plt.rcParams[\"figure.figsize\"] = [20,12]\n",
    "plt.subplot(3,2,1)\n",
    "plt.hist(week_1,bins = 50,label = 'week 1')\n",
    "plt.legend()\n",
    "plt.subplot(3,2,2)\n",
    "plt.hist(week_2,bins = 50,label = 'week 2')\n",
    "plt.legend()\n",
    "plt.subplot(3,2,3)\n",
    "plt.hist(week_3,bins = 50,label = 'week 3')\n",
    "plt.legend()\n",
    "plt.subplot(3,2,4)\n",
    "plt.hist(week_4,bins = 50,label = 'week 4')\n",
    "plt.legend()\n",
    "plt.subplot(3,2,5)\n",
    "plt.hist(week_5,bins = 50,label = 'week 5')\n",
    "plt.legend()\n",
    "plt.legend()\n",
    "plt.savefig('task5')\n",
    "plt.show()"
   ]
  },
  {
   "cell_type": "code",
   "execution_count": 52,
   "metadata": {
    "collapsed": false,
    "scrolled": true
   },
   "outputs": [
    {
     "data": {
      "text/plain": [
       "Index(['VendorID', 'lpep_pickup_datetime', 'Lpep_dropoff_datetime',\n",
       "       'Store_and_fwd_flag', 'RateCodeID', 'Pickup_longitude',\n",
       "       'Pickup_latitude', 'Dropoff_longitude', 'Dropoff_latitude',\n",
       "       'Passenger_count', 'Trip_distance', 'Fare_amount', 'Extra', 'MTA_tax',\n",
       "       'Tip_amount', 'Tolls_amount', 'Ehail_fee', 'improvement_surcharge',\n",
       "       'Total_amount', 'Payment_type', 'Trip_type ', 'pickup', 'pickup_hour',\n",
       "       'dropoff', 'dropoff_hour', 'airport', 'tip_percent', 'travel_time',\n",
       "       'average_speed', 'week'],\n",
       "      dtype='object')"
      ]
     },
     "execution_count": 52,
     "metadata": {},
     "output_type": "execute_result"
    }
   ],
   "source": [
    "df.columns"
   ]
  },
  {
   "cell_type": "code",
   "execution_count": 53,
   "metadata": {
    "collapsed": false
   },
   "outputs": [],
   "source": [
    "grouped = df.groupby('pickup_hour')\n",
    "samples = []\n",
    "\n",
    "for name,group in grouped:\n",
    "    samples.append(group['average_speed']) "
   ]
  },
  {
   "cell_type": "code",
   "execution_count": 54,
   "metadata": {
    "collapsed": false
   },
   "outputs": [
    {
     "data": {
      "text/plain": [
       "F_onewayResult(statistic=4914.1349850891156, pvalue=0.0)"
      ]
     },
     "execution_count": 54,
     "metadata": {},
     "output_type": "execute_result"
    }
   ],
   "source": [
    "sample = samples\n",
    "stats.f_oneway(sample[0],sample[1],sample[2],sample[3], sample[4],sample[5],sample[6],sample[7],sample[8],sample[9],\n",
    "              sample[10],sample[11],sample[12],sample[13],sample[14],sample[15],sample[16],sample[17],sample[18],\n",
    "               sample[19],\n",
    "              sample[20],sample[21],sample[22],sample[23])"
   ]
  },
  {
   "cell_type": "markdown",
   "metadata": {},
   "source": [
    "The ANOVA test for sets partitioned as per the hour of the journey also gives a high f-value and p-value of 0, implying that there are statistifically significant differences in the data sets considered."
   ]
  },
  {
   "cell_type": "code",
   "execution_count": 55,
   "metadata": {
    "collapsed": false,
    "scrolled": true
   },
   "outputs": [
    {
     "name": "stdout",
     "output_type": "stream",
     "text": [
      "Mean: 14.6639353139\n",
      "Median: 13.4201183432\n",
      "Mean: 14.9252876725\n",
      "Median: 13.7319587629\n",
      "Mean: 15.146889416\n",
      "Median: 13.9712933175\n",
      "Mean: 15.5386502123\n",
      "Median: 14.2275449102\n",
      "Mean: 16.3749565202\n",
      "Median: 14.6666666667\n",
      "Mean: 18.1430466345\n",
      "Median: 16.2\n",
      "Mean: 17.160749353\n",
      "Median: 15.3366864653\n",
      "Mean: 13.5402059607\n",
      "Median: 12.0616174583\n",
      "Mean: 12.3019317672\n",
      "Median: 11.0204081633\n",
      "Mean: 12.5924211975\n",
      "Median: 11.3327171731\n",
      "Mean: 12.5934777922\n",
      "Median: 11.3646353646\n",
      "Mean: 12.3043828557\n",
      "Median: 11.1111111111\n",
      "Mean: 12.1994123864\n",
      "Median: 11.0284463895\n",
      "Mean: 12.1070622969\n",
      "Median: 10.9695290859\n",
      "Mean: 11.6046705599\n",
      "Median: 10.5845070423\n",
      "Mean: 11.2251591641\n",
      "Median: 10.3135135135\n",
      "Mean: 10.9940357764\n",
      "Median: 10.1758859857\n",
      "Mean: 10.9614312388\n",
      "Median: 10.2272727273\n",
      "Mean: 11.5509198143\n",
      "Median: 10.7564766839\n",
      "Mean: 12.1071507273\n",
      "Median: 11.2348993289\n",
      "Mean: 12.7933973885\n",
      "Median: 11.8255813953\n",
      "Mean: 13.6661321269\n",
      "Median: 12.4922106285\n",
      "Mean: 14.1376122156\n",
      "Median: 12.9345132743\n",
      "Mean: 14.4183527668\n",
      "Median: 13.2079021637\n"
     ]
    }
   ],
   "source": [
    "means = []\n",
    "medians = []\n",
    "for hour in range(24):\n",
    "    means.append(statistics.mean(sample[hour]))\n",
    "    print('Mean:',statistics.mean(sample[hour]))\n",
    "    medians.append(statistics.median(sample[hour]))\n",
    "    print('Median:',statistics.median(sample[hour]))"
   ]
  },
  {
   "cell_type": "code",
   "execution_count": 56,
   "metadata": {
    "collapsed": false
   },
   "outputs": [
    {
     "data": {
      "image/png": "[encoded data removed]",
      "text/plain": [
       "<matplotlib.figure.Figure at 0x22d0b02f320>"
      ]
     },
     "metadata": {},
     "output_type": "display_data"
    }
   ],
   "source": [
    "plt.rcParams[\"figure.figsize\"] = [5,3]\n",
    "index = np.arange(24)\n",
    "bar_width = 0.35\n",
    "opacity = 0.4\n",
    "error_config = {'ecolor': '0.3'}\n",
    "\n",
    "rects1 = plt.bar(index, means, bar_width,\n",
    "                 alpha=opacity,\n",
    "                 color='b',\n",
    "                 error_kw=error_config,\n",
    "                 label='Average speed of a ride at the hour')\n",
    "plt.legend()\n",
    "plt.savefig('task_5_b_1')\n",
    "\n",
    "plt.show()\n"
   ]
  },
  {
   "cell_type": "code",
   "execution_count": 57,
   "metadata": {
    "collapsed": false
   },
   "outputs": [
    {
     "data": {
      "image/png": "[encoded data removed]",
      "text/plain": [
       "<matplotlib.figure.Figure at 0x22d2f344f60>"
      ]
     },
     "metadata": {},
     "output_type": "display_data"
    }
   ],
   "source": [
    "plt.rcParams[\"figure.figsize\"] = [5,3]\n",
    "index = np.arange(24)\n",
    "bar_width = 0.35\n",
    "opacity = 0.4\n",
    "error_config = {'ecolor': '0.3'}\n",
    "\n",
    "rects1 = plt.bar(index, medians, bar_width,\n",
    "                 alpha=opacity,\n",
    "                 color='b',\n",
    "                 error_kw=error_config,\n",
    "                 label='Median speed of a ride at the hour')\n",
    "plt.legend()\n",
    "plt.savefig('task_5_b_2')\n",
    "\n",
    "plt.show()\n"
   ]
  },
  {
   "cell_type": "markdown",
   "metadata": {
    "collapsed": true
   },
   "source": [
    "## THANK YOU !!!"
   ]
  },
  {
   "cell_type": "code",
   "execution_count": null,
   "metadata": {
    "collapsed": true
   },
   "outputs": [],
   "source": []
  }
 ],
 "metadata": {
  "anaconda-cloud": {},
  "kernelspec": {
   "display_name": "Python [default]",
   "language": "python",
   "name": "python3"
  },
  "language_info": {
   "codemirror_mode": {
    "name": "ipython",
    "version": 3
   },
   "file_extension": ".py",
   "mimetype": "text/x-python",
   "name": "python",
   "nbconvert_exporter": "python",
   "pygments_lexer": "ipython3",
   "version": "3.5.2"
  }
 },
 "nbformat": 4,
 "nbformat_minor": 1
}
